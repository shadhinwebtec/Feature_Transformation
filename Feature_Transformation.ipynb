{
  "nbformat": 4,
  "nbformat_minor": 0,
  "metadata": {
    "colab": {
      "name": "Feature_Transformation.ipynb",
      "provenance": [],
      "authorship_tag": "ABX9TyNKHqJbhF8e2kpxNgskQPl1",
      "include_colab_link": true
    },
    "kernelspec": {
      "name": "python3",
      "display_name": "Python 3"
    },
    "language_info": {
      "name": "python"
    }
  },
  "cells": [
    {
      "cell_type": "markdown",
      "metadata": {
        "id": "view-in-github",
        "colab_type": "text"
      },
      "source": [
        "<a href=\"https://colab.research.google.com/github/shadhinwebtec/Feature_Transformation/blob/main/Feature_Transformation.ipynb\" target=\"_parent\"><img src=\"https://colab.research.google.com/assets/colab-badge.svg\" alt=\"Open In Colab\"/></a>"
      ]
    },
    {
      "cell_type": "code",
      "metadata": {
        "id": "LqZq7B0xsvq5"
      },
      "source": [
        "from google.colab import drive "
      ],
      "execution_count": 1,
      "outputs": []
    },
    {
      "cell_type": "code",
      "metadata": {
        "colab": {
          "base_uri": "https://localhost:8080/"
        },
        "id": "vFkQJF1Hvw7Z",
        "outputId": "7095e626-f6d5-4679-b239-e72f14662ed1"
      },
      "source": [
        "drive.mount('/content/drive')"
      ],
      "execution_count": 2,
      "outputs": [
        {
          "output_type": "stream",
          "name": "stdout",
          "text": [
            "Mounted at /content/drive\n"
          ]
        }
      ]
    },
    {
      "cell_type": "code",
      "metadata": {
        "id": "FTkodNbKwHOV"
      },
      "source": [
        "import pandas as pd"
      ],
      "execution_count": 3,
      "outputs": []
    },
    {
      "cell_type": "code",
      "metadata": {
        "colab": {
          "base_uri": "https://localhost:8080/"
        },
        "id": "2hXsLHRtw2bt",
        "outputId": "15f2e56e-6d98-4154-f764-9c943b7230c3"
      },
      "source": [
        "df=pd.read_csv('/content/drive/MyDrive/Data/agora.csv')\n",
        "df.head\n"
      ],
      "execution_count": 6,
      "outputs": [
        {
          "output_type": "execute_result",
          "data": {
            "text/plain": [
              "<bound method NDFrame.head of     Marketing Spend  Administration  Transport     Area     Profit\n",
              "0         114523.61       136897.80  471784.10    Dhaka  192261.83\n",
              "1         162597.70       151377.59  443898.53      Ctg  191792.06\n",
              "2         153441.51       101145.55  407934.54  Rangpur  191050.39\n",
              "3         144372.41       118671.85  383199.62    Dhaka  182901.99\n",
              "4         142107.34        91391.77  366168.42  Rangpur  166187.94\n",
              "5         131876.90        99814.71  362861.36    Dhaka  156991.12\n",
              "6         134615.46       147198.87  127716.82      Ctg  156122.51\n",
              "7         130298.13       145530.06  323876.68  Rangpur  155752.60\n",
              "8         120542.52       148718.95  311613.29    Dhaka  152211.77\n",
              "9         123334.88       108679.17  304981.62      Ctg  149759.96\n",
              "10        101913.08       110594.11  229160.95  Rangpur  146121.95\n",
              "11        100671.96        91790.61  249744.55      Ctg  144259.40\n",
              "12         93863.75       127320.38  249839.44  Rangpur  141585.52\n",
              "13         91992.39       135495.07  252664.93      Ctg  134307.35\n",
              "14        119943.24       156547.42  256512.92  Rangpur  132602.65\n",
              "15        165349.20       122616.84  261776.23    Dhaka  129917.04\n",
              "16         78013.11       121597.55  264346.06      Ctg  126992.93\n",
              "17         94657.16       145077.58  282574.31    Dhaka  125370.37\n",
              "18         91749.16       114175.79  294919.57  Rangpur  124266.90\n",
              "19         86419.70       153514.11        NaN    Dhaka  122776.86\n",
              "20         76253.86       113867.30  298664.47      Ctg  118474.03\n",
              "21         78389.47       153773.43  299737.29    Dhaka  111313.02\n",
              "22         73994.56       122782.75  303319.26  Rangpur  110352.25\n",
              "23         67532.53       105751.03  304768.73  Rangpur  108733.99\n",
              "24         77044.01        99281.34  140574.81    Dhaka  108552.04\n",
              "25         64664.71       139553.16  137962.62      Ctg  107404.34\n",
              "26         75328.87       144135.98  134050.07  Rangpur  105733.54\n",
              "27         72107.60       127864.55  353183.81    Dhaka  105008.31\n",
              "28         66051.52       182645.56  118148.20  Rangpur  103282.38\n",
              "29         65605.48       153032.06  107138.38    Dhaka  101004.64\n",
              "30         61994.48       115641.28   91131.24  Rangpur   99937.59\n",
              "31         61136.38       152701.92   88218.23    Dhaka   97483.56\n",
              "32         63408.86       129219.61   46085.25      Ctg   97427.84\n",
              "33         55493.95       103057.49  214634.81  Rangpur   96778.92\n",
              "34         46426.07       157693.92  210797.67      Ctg   96712.80\n",
              "35         46014.02        85047.44  205517.64    Dhaka   96479.51\n",
              "36         28663.76       127056.21  201126.82  Rangpur   90708.19\n",
              "37         44069.95        51283.14  197029.42      Ctg   89949.14\n",
              "38         20229.59        65947.93  185265.10    Dhaka   81229.06\n",
              "39         38558.51        82982.09  174999.30      Ctg   81005.76\n",
              "40         28754.33       118546.05  172795.67      Ctg   78239.91\n",
              "41         27892.92        84710.77  164470.71  Rangpur   77798.83\n",
              "42         23640.93        96189.63  148001.11      Ctg   71498.49\n",
              "43         15505.73       127382.30   35534.17    Dhaka   69758.98\n",
              "44         22177.74       154806.14   28334.72      Ctg   65200.33\n",
              "45          1000.23       124153.04    1903.93    Dhaka   64926.08\n",
              "46          1315.46       115816.21  297114.46  Rangpur   49490.75\n",
              "47             0.00       135426.92       0.00      Ctg   42559.73\n",
              "48           542.05        51743.15       0.00    Dhaka   35673.41\n",
              "49             0.00       116983.80   45173.06      Ctg   14681.40>"
            ]
          },
          "metadata": {},
          "execution_count": 6
        }
      ]
    },
    {
      "cell_type": "code",
      "metadata": {
        "id": "D7IVkhv1xMBO"
      },
      "source": [
        "import seaborn as seaborn\n",
        "import matplotlib.pyplot as plt"
      ],
      "execution_count": 10,
      "outputs": []
    },
    {
      "cell_type": "code",
      "metadata": {
        "colab": {
          "base_uri": "https://localhost:8080/"
        },
        "id": "M_XdwVMXzTzX",
        "outputId": "a2b2fc93-b734-494a-ff3e-a5dbe9b1a784"
      },
      "source": [
        "x=df.drop('Profit',axis=1)\n",
        "x.head"
      ],
      "execution_count": 48,
      "outputs": [
        {
          "output_type": "execute_result",
          "data": {
            "text/plain": [
              "<bound method NDFrame.head of     Marketing Spend  Administration  Transport     Area\n",
              "0          0.692617        0.651744   1.000000    Dhaka\n",
              "1          0.983359        0.761972   0.940893      Ctg\n",
              "2          0.927985        0.379579   0.864664  Rangpur\n",
              "3          0.873136        0.512998   0.812235    Dhaka\n",
              "4          0.859438        0.305328   0.776136  Rangpur\n",
              "5          0.797566        0.369448   0.769126    Dhaka\n",
              "6          0.814128        0.730161   0.270710      Ctg\n",
              "7          0.788018        0.717457   0.686493  Rangpur\n",
              "8          0.729018        0.741733   0.660500    Dhaka\n",
              "9          0.745906        0.436929   0.646443      Ctg\n",
              "10         0.616351        0.451506   0.485733  Rangpur\n",
              "11         0.608845        0.308364   0.529362      Ctg\n",
              "12         0.567670        0.578836   0.529563  Rangpur\n",
              "13         0.556352        0.641066   0.535552      Ctg\n",
              "14         0.725394        0.801327   0.543708  Rangpur\n",
              "15         1.000000        0.543030   0.554864    Dhaka\n",
              "16         0.471808        0.535270   0.560312      Ctg\n",
              "17         0.572468        0.714013   0.598948    Dhaka\n",
              "18         0.554881        0.478772   0.625116  Rangpur\n",
              "19         0.522650        0.778236        NaN    Dhaka\n",
              "20         0.461169        0.476424   0.633053      Ctg\n",
              "21         0.474084        0.780210   0.635327    Dhaka\n",
              "22         0.447505        0.544293   0.642920  Rangpur\n",
              "23         0.408424        0.414638   0.645992  Rangpur\n",
              "24         0.465947        0.365388   0.297964    Dhaka\n",
              "25         0.391080        0.671958   0.292427      Ctg\n",
              "26         0.455574        0.706845   0.284134  Rangpur\n",
              "27         0.436093        0.582978   0.748613    Dhaka\n",
              "28         0.399467        1.000000   0.250429  Rangpur\n",
              "29         0.396769        0.774566   0.227092    Dhaka\n",
              "30         0.374931        0.489928   0.193163  Rangpur\n",
              "31         0.369741        0.772053   0.186989    Dhaka\n",
              "32         0.383485        0.593294   0.097683      Ctg\n",
              "33         0.335617        0.394134   0.454943  Rangpur\n",
              "34         0.280776        0.810055   0.446810      Ctg\n",
              "35         0.278284        0.257032   0.435618    Dhaka\n",
              "36         0.173353        0.576825   0.426311  Rangpur\n",
              "37         0.266527        0.000000   0.417626      Ctg\n",
              "38         0.122345        0.111636   0.392690    Dhaka\n",
              "39         0.233194        0.241309   0.370931      Ctg\n",
              "40         0.173901        0.512041   0.366260      Ctg\n",
              "41         0.168691        0.254469   0.348614  Rangpur\n",
              "42         0.142976        0.341852   0.313705      Ctg\n",
              "43         0.093776        0.579307   0.075319    Dhaka\n",
              "44         0.134127        0.788072   0.060059      Ctg\n",
              "45         0.006049        0.554724   0.004036    Dhaka\n",
              "46         0.007956        0.491260   0.629768  Rangpur\n",
              "47         0.000000        0.640547   0.000000      Ctg\n",
              "48         0.003278        0.003502   0.000000    Dhaka\n",
              "49         0.000000        0.500148   0.095749      Ctg>"
            ]
          },
          "metadata": {},
          "execution_count": 48
        }
      ]
    },
    {
      "cell_type": "code",
      "metadata": {
        "colab": {
          "base_uri": "https://localhost:8080/"
        },
        "id": "rshRUYAa1alX",
        "outputId": "27806578-9012-4a4b-fc74-4c31688c089a"
      },
      "source": [
        "y=df['Profit']\n",
        "y.head"
      ],
      "execution_count": 15,
      "outputs": [
        {
          "output_type": "execute_result",
          "data": {
            "text/plain": [
              "<bound method NDFrame.head of 0     192261.83\n",
              "1     191792.06\n",
              "2     191050.39\n",
              "3     182901.99\n",
              "4     166187.94\n",
              "5     156991.12\n",
              "6     156122.51\n",
              "7     155752.60\n",
              "8     152211.77\n",
              "9     149759.96\n",
              "10    146121.95\n",
              "11    144259.40\n",
              "12    141585.52\n",
              "13    134307.35\n",
              "14    132602.65\n",
              "15    129917.04\n",
              "16    126992.93\n",
              "17    125370.37\n",
              "18    124266.90\n",
              "19    122776.86\n",
              "20    118474.03\n",
              "21    111313.02\n",
              "22    110352.25\n",
              "23    108733.99\n",
              "24    108552.04\n",
              "25    107404.34\n",
              "26    105733.54\n",
              "27    105008.31\n",
              "28    103282.38\n",
              "29    101004.64\n",
              "30     99937.59\n",
              "31     97483.56\n",
              "32     97427.84\n",
              "33     96778.92\n",
              "34     96712.80\n",
              "35     96479.51\n",
              "36     90708.19\n",
              "37     89949.14\n",
              "38     81229.06\n",
              "39     81005.76\n",
              "40     78239.91\n",
              "41     77798.83\n",
              "42     71498.49\n",
              "43     69758.98\n",
              "44     65200.33\n",
              "45     64926.08\n",
              "46     49490.75\n",
              "47     42559.73\n",
              "48     35673.41\n",
              "49     14681.40\n",
              "Name: Profit, dtype: float64>"
            ]
          },
          "metadata": {},
          "execution_count": 15
        }
      ]
    },
    {
      "cell_type": "markdown",
      "metadata": {
        "id": "Ad9CeZFe9AKw"
      },
      "source": [
        "**Normalization**"
      ]
    },
    {
      "cell_type": "code",
      "metadata": {
        "id": "qrR5R9TF2rQe"
      },
      "source": [
        "from sklearn.preprocessing import MinMaxScaler"
      ],
      "execution_count": 22,
      "outputs": []
    },
    {
      "cell_type": "code",
      "metadata": {
        "colab": {
          "base_uri": "https://localhost:8080/"
        },
        "id": "_BToU1O63iAG",
        "outputId": "34efa2a8-e202-41f5-aac4-c49ef0697bb5"
      },
      "source": [
        "minmax = MinMaxScaler()\n",
        "minmax"
      ],
      "execution_count": 23,
      "outputs": [
        {
          "output_type": "execute_result",
          "data": {
            "text/plain": [
              "MinMaxScaler(copy=True, feature_range=(0, 1))"
            ]
          },
          "metadata": {},
          "execution_count": 23
        }
      ]
    },
    {
      "cell_type": "code",
      "metadata": {
        "colab": {
          "base_uri": "https://localhost:8080/",
          "height": 204
        },
        "id": "sWFCJDat4yid",
        "outputId": "80a5a437-84ed-4de9-bd3d-fae1a132ff44"
      },
      "source": [
        "df['Marketing Spend'] = minmax.fit_transform(x[['Marketing Spend']])\n",
        "df['Administration'] = minmax.fit_transform(x[['Administration']])\n",
        "df['Transport'] = minmax.fit_transform(x[['Transport']])\n",
        "\n",
        "df.head(5)"
      ],
      "execution_count": 47,
      "outputs": [
        {
          "output_type": "execute_result",
          "data": {
            "text/html": [
              "<div>\n",
              "<style scoped>\n",
              "    .dataframe tbody tr th:only-of-type {\n",
              "        vertical-align: middle;\n",
              "    }\n",
              "\n",
              "    .dataframe tbody tr th {\n",
              "        vertical-align: top;\n",
              "    }\n",
              "\n",
              "    .dataframe thead th {\n",
              "        text-align: right;\n",
              "    }\n",
              "</style>\n",
              "<table border=\"1\" class=\"dataframe\">\n",
              "  <thead>\n",
              "    <tr style=\"text-align: right;\">\n",
              "      <th></th>\n",
              "      <th>Marketing Spend</th>\n",
              "      <th>Administration</th>\n",
              "      <th>Transport</th>\n",
              "      <th>Area</th>\n",
              "      <th>Profit</th>\n",
              "    </tr>\n",
              "  </thead>\n",
              "  <tbody>\n",
              "    <tr>\n",
              "      <th>0</th>\n",
              "      <td>0.692617</td>\n",
              "      <td>0.651744</td>\n",
              "      <td>1.000000</td>\n",
              "      <td>Dhaka</td>\n",
              "      <td>192261.83</td>\n",
              "    </tr>\n",
              "    <tr>\n",
              "      <th>1</th>\n",
              "      <td>0.983359</td>\n",
              "      <td>0.761972</td>\n",
              "      <td>0.940893</td>\n",
              "      <td>Ctg</td>\n",
              "      <td>191792.06</td>\n",
              "    </tr>\n",
              "    <tr>\n",
              "      <th>2</th>\n",
              "      <td>0.927985</td>\n",
              "      <td>0.379579</td>\n",
              "      <td>0.864664</td>\n",
              "      <td>Rangpur</td>\n",
              "      <td>191050.39</td>\n",
              "    </tr>\n",
              "    <tr>\n",
              "      <th>3</th>\n",
              "      <td>0.873136</td>\n",
              "      <td>0.512998</td>\n",
              "      <td>0.812235</td>\n",
              "      <td>Dhaka</td>\n",
              "      <td>182901.99</td>\n",
              "    </tr>\n",
              "    <tr>\n",
              "      <th>4</th>\n",
              "      <td>0.859438</td>\n",
              "      <td>0.305328</td>\n",
              "      <td>0.776136</td>\n",
              "      <td>Rangpur</td>\n",
              "      <td>166187.94</td>\n",
              "    </tr>\n",
              "  </tbody>\n",
              "</table>\n",
              "</div>"
            ],
            "text/plain": [
              "   Marketing Spend  Administration  Transport     Area     Profit\n",
              "0         0.692617        0.651744   1.000000    Dhaka  192261.83\n",
              "1         0.983359        0.761972   0.940893      Ctg  191792.06\n",
              "2         0.927985        0.379579   0.864664  Rangpur  191050.39\n",
              "3         0.873136        0.512998   0.812235    Dhaka  182901.99\n",
              "4         0.859438        0.305328   0.776136  Rangpur  166187.94"
            ]
          },
          "metadata": {},
          "execution_count": 47
        }
      ]
    },
    {
      "cell_type": "markdown",
      "metadata": {
        "id": "qRv2HCB2AgB8"
      },
      "source": [
        "**Standard Scaler**"
      ]
    },
    {
      "cell_type": "code",
      "metadata": {
        "colab": {
          "base_uri": "https://localhost:8080/"
        },
        "id": "a7nVlkgIArAS",
        "outputId": "8f4bba20-ec4b-4bc3-af8b-f5e33521115b"
      },
      "source": [
        "df2=pd.read_csv('/content/drive/MyDrive/Data/agora.csv')\n",
        "df2.head"
      ],
      "execution_count": 30,
      "outputs": [
        {
          "output_type": "execute_result",
          "data": {
            "text/plain": [
              "<bound method NDFrame.head of     Marketing Spend  Administration  Transport     Area     Profit\n",
              "0         114523.61       136897.80  471784.10    Dhaka  192261.83\n",
              "1         162597.70       151377.59  443898.53      Ctg  191792.06\n",
              "2         153441.51       101145.55  407934.54  Rangpur  191050.39\n",
              "3         144372.41       118671.85  383199.62    Dhaka  182901.99\n",
              "4         142107.34        91391.77  366168.42  Rangpur  166187.94\n",
              "5         131876.90        99814.71  362861.36    Dhaka  156991.12\n",
              "6         134615.46       147198.87  127716.82      Ctg  156122.51\n",
              "7         130298.13       145530.06  323876.68  Rangpur  155752.60\n",
              "8         120542.52       148718.95  311613.29    Dhaka  152211.77\n",
              "9         123334.88       108679.17  304981.62      Ctg  149759.96\n",
              "10        101913.08       110594.11  229160.95  Rangpur  146121.95\n",
              "11        100671.96        91790.61  249744.55      Ctg  144259.40\n",
              "12         93863.75       127320.38  249839.44  Rangpur  141585.52\n",
              "13         91992.39       135495.07  252664.93      Ctg  134307.35\n",
              "14        119943.24       156547.42  256512.92  Rangpur  132602.65\n",
              "15        165349.20       122616.84  261776.23    Dhaka  129917.04\n",
              "16         78013.11       121597.55  264346.06      Ctg  126992.93\n",
              "17         94657.16       145077.58  282574.31    Dhaka  125370.37\n",
              "18         91749.16       114175.79  294919.57  Rangpur  124266.90\n",
              "19         86419.70       153514.11        NaN    Dhaka  122776.86\n",
              "20         76253.86       113867.30  298664.47      Ctg  118474.03\n",
              "21         78389.47       153773.43  299737.29    Dhaka  111313.02\n",
              "22         73994.56       122782.75  303319.26  Rangpur  110352.25\n",
              "23         67532.53       105751.03  304768.73  Rangpur  108733.99\n",
              "24         77044.01        99281.34  140574.81    Dhaka  108552.04\n",
              "25         64664.71       139553.16  137962.62      Ctg  107404.34\n",
              "26         75328.87       144135.98  134050.07  Rangpur  105733.54\n",
              "27         72107.60       127864.55  353183.81    Dhaka  105008.31\n",
              "28         66051.52       182645.56  118148.20  Rangpur  103282.38\n",
              "29         65605.48       153032.06  107138.38    Dhaka  101004.64\n",
              "30         61994.48       115641.28   91131.24  Rangpur   99937.59\n",
              "31         61136.38       152701.92   88218.23    Dhaka   97483.56\n",
              "32         63408.86       129219.61   46085.25      Ctg   97427.84\n",
              "33         55493.95       103057.49  214634.81  Rangpur   96778.92\n",
              "34         46426.07       157693.92  210797.67      Ctg   96712.80\n",
              "35         46014.02        85047.44  205517.64    Dhaka   96479.51\n",
              "36         28663.76       127056.21  201126.82  Rangpur   90708.19\n",
              "37         44069.95        51283.14  197029.42      Ctg   89949.14\n",
              "38         20229.59        65947.93  185265.10    Dhaka   81229.06\n",
              "39         38558.51        82982.09  174999.30      Ctg   81005.76\n",
              "40         28754.33       118546.05  172795.67      Ctg   78239.91\n",
              "41         27892.92        84710.77  164470.71  Rangpur   77798.83\n",
              "42         23640.93        96189.63  148001.11      Ctg   71498.49\n",
              "43         15505.73       127382.30   35534.17    Dhaka   69758.98\n",
              "44         22177.74       154806.14   28334.72      Ctg   65200.33\n",
              "45          1000.23       124153.04    1903.93    Dhaka   64926.08\n",
              "46          1315.46       115816.21  297114.46  Rangpur   49490.75\n",
              "47             0.00       135426.92       0.00      Ctg   42559.73\n",
              "48           542.05        51743.15       0.00    Dhaka   35673.41\n",
              "49             0.00       116983.80   45173.06      Ctg   14681.40>"
            ]
          },
          "metadata": {},
          "execution_count": 30
        }
      ]
    },
    {
      "cell_type": "code",
      "metadata": {
        "colab": {
          "base_uri": "https://localhost:8080/"
        },
        "id": "Qw2dTEG0BIYW",
        "outputId": "1ccb7af3-fa7b-426c-f1a4-57a4fa635bf1"
      },
      "source": [
        "x1=df2.drop('Profit',axis=1)\n",
        "x1.head\n",
        "\n"
      ],
      "execution_count": 52,
      "outputs": [
        {
          "output_type": "execute_result",
          "data": {
            "text/plain": [
              "<bound method NDFrame.head of     Marketing Spend  Administration  Transport     Area\n",
              "0         114523.61       136897.80  471784.10    Dhaka\n",
              "1         162597.70       151377.59  443898.53      Ctg\n",
              "2         153441.51       101145.55  407934.54  Rangpur\n",
              "3         144372.41       118671.85  383199.62    Dhaka\n",
              "4         142107.34        91391.77  366168.42  Rangpur\n",
              "5         131876.90        99814.71  362861.36    Dhaka\n",
              "6         134615.46       147198.87  127716.82      Ctg\n",
              "7         130298.13       145530.06  323876.68  Rangpur\n",
              "8         120542.52       148718.95  311613.29    Dhaka\n",
              "9         123334.88       108679.17  304981.62      Ctg\n",
              "10        101913.08       110594.11  229160.95  Rangpur\n",
              "11        100671.96        91790.61  249744.55      Ctg\n",
              "12         93863.75       127320.38  249839.44  Rangpur\n",
              "13         91992.39       135495.07  252664.93      Ctg\n",
              "14        119943.24       156547.42  256512.92  Rangpur\n",
              "15        165349.20       122616.84  261776.23    Dhaka\n",
              "16         78013.11       121597.55  264346.06      Ctg\n",
              "17         94657.16       145077.58  282574.31    Dhaka\n",
              "18         91749.16       114175.79  294919.57  Rangpur\n",
              "19         86419.70       153514.11        NaN    Dhaka\n",
              "20         76253.86       113867.30  298664.47      Ctg\n",
              "21         78389.47       153773.43  299737.29    Dhaka\n",
              "22         73994.56       122782.75  303319.26  Rangpur\n",
              "23         67532.53       105751.03  304768.73  Rangpur\n",
              "24         77044.01        99281.34  140574.81    Dhaka\n",
              "25         64664.71       139553.16  137962.62      Ctg\n",
              "26         75328.87       144135.98  134050.07  Rangpur\n",
              "27         72107.60       127864.55  353183.81    Dhaka\n",
              "28         66051.52       182645.56  118148.20  Rangpur\n",
              "29         65605.48       153032.06  107138.38    Dhaka\n",
              "30         61994.48       115641.28   91131.24  Rangpur\n",
              "31         61136.38       152701.92   88218.23    Dhaka\n",
              "32         63408.86       129219.61   46085.25      Ctg\n",
              "33         55493.95       103057.49  214634.81  Rangpur\n",
              "34         46426.07       157693.92  210797.67      Ctg\n",
              "35         46014.02        85047.44  205517.64    Dhaka\n",
              "36         28663.76       127056.21  201126.82  Rangpur\n",
              "37         44069.95        51283.14  197029.42      Ctg\n",
              "38         20229.59        65947.93  185265.10    Dhaka\n",
              "39         38558.51        82982.09  174999.30      Ctg\n",
              "40         28754.33       118546.05  172795.67      Ctg\n",
              "41         27892.92        84710.77  164470.71  Rangpur\n",
              "42         23640.93        96189.63  148001.11      Ctg\n",
              "43         15505.73       127382.30   35534.17    Dhaka\n",
              "44         22177.74       154806.14   28334.72      Ctg\n",
              "45          1000.23       124153.04    1903.93    Dhaka\n",
              "46          1315.46       115816.21  297114.46  Rangpur\n",
              "47             0.00       135426.92       0.00      Ctg\n",
              "48           542.05        51743.15       0.00    Dhaka\n",
              "49             0.00       116983.80   45173.06      Ctg>"
            ]
          },
          "metadata": {},
          "execution_count": 52
        }
      ]
    },
    {
      "cell_type": "code",
      "metadata": {
        "colab": {
          "base_uri": "https://localhost:8080/"
        },
        "id": "VlS0i_6UCvbA",
        "outputId": "2ced8522-74d0-4d37-b796-3ac72f5c02c3"
      },
      "source": [
        "y2=df2[['Profit']]\n",
        "y2.head"
      ],
      "execution_count": 53,
      "outputs": [
        {
          "output_type": "execute_result",
          "data": {
            "text/plain": [
              "<bound method NDFrame.head of        Profit\n",
              "0   192261.83\n",
              "1   191792.06\n",
              "2   191050.39\n",
              "3   182901.99\n",
              "4   166187.94\n",
              "5   156991.12\n",
              "6   156122.51\n",
              "7   155752.60\n",
              "8   152211.77\n",
              "9   149759.96\n",
              "10  146121.95\n",
              "11  144259.40\n",
              "12  141585.52\n",
              "13  134307.35\n",
              "14  132602.65\n",
              "15  129917.04\n",
              "16  126992.93\n",
              "17  125370.37\n",
              "18  124266.90\n",
              "19  122776.86\n",
              "20  118474.03\n",
              "21  111313.02\n",
              "22  110352.25\n",
              "23  108733.99\n",
              "24  108552.04\n",
              "25  107404.34\n",
              "26  105733.54\n",
              "27  105008.31\n",
              "28  103282.38\n",
              "29  101004.64\n",
              "30   99937.59\n",
              "31   97483.56\n",
              "32   97427.84\n",
              "33   96778.92\n",
              "34   96712.80\n",
              "35   96479.51\n",
              "36   90708.19\n",
              "37   89949.14\n",
              "38   81229.06\n",
              "39   81005.76\n",
              "40   78239.91\n",
              "41   77798.83\n",
              "42   71498.49\n",
              "43   69758.98\n",
              "44   65200.33\n",
              "45   64926.08\n",
              "46   49490.75\n",
              "47   42559.73\n",
              "48   35673.41\n",
              "49   14681.40>"
            ]
          },
          "metadata": {},
          "execution_count": 53
        }
      ]
    },
    {
      "cell_type": "code",
      "metadata": {
        "colab": {
          "base_uri": "https://localhost:8080/"
        },
        "id": "2tqAxaoAJ3c9",
        "outputId": "7a07c2fd-784f-47cb-84fc-a6b175e08365"
      },
      "source": [
        "from sklearn.preprocessing import StandardScaler\n",
        "std = StandardScaler()\n",
        "std"
      ],
      "execution_count": 54,
      "outputs": [
        {
          "output_type": "execute_result",
          "data": {
            "text/plain": [
              "StandardScaler(copy=True, with_mean=True, with_std=True)"
            ]
          },
          "metadata": {},
          "execution_count": 54
        }
      ]
    },
    {
      "cell_type": "code",
      "metadata": {
        "colab": {
          "base_uri": "https://localhost:8080/"
        },
        "id": "84ov8m72KELJ",
        "outputId": "3b85305a-c3dc-4349-97ae-061b58e4bac6"
      },
      "source": [
        "std.with_mean"
      ],
      "execution_count": 57,
      "outputs": [
        {
          "output_type": "execute_result",
          "data": {
            "text/plain": [
              "True"
            ]
          },
          "metadata": {},
          "execution_count": 57
        }
      ]
    },
    {
      "cell_type": "code",
      "metadata": {
        "colab": {
          "base_uri": "https://localhost:8080/"
        },
        "id": "etyJWNinKyvQ",
        "outputId": "63a80cc6-a6fb-46ac-e40b-4432ba118afd"
      },
      "source": [
        "df2['Marketing Spend'] = std.fit_transform(x[['Marketing Spend']])\n",
        "df2['Administration'] = std.fit_transform(x[['Administration']])\n",
        "df2['Transport'] = std.fit_transform(x[['Transport']])\n",
        "df2.head"
      ],
      "execution_count": 58,
      "outputs": [
        {
          "output_type": "execute_result",
          "data": {
            "text/plain": [
              "<bound method NDFrame.head of     Marketing Spend  Administration  Transport     Area     Profit\n",
              "0          0.897913        0.560753   2.165287    Dhaka  192261.83\n",
              "1          1.955860        1.082807   1.929843      Ctg  191792.06\n",
              "2          1.754364       -0.728257   1.626191  Rangpur  191050.39\n",
              "3          1.554784       -0.096365   1.417348    Dhaka  182901.99\n",
              "4          1.504937       -1.079919   1.273550  Rangpur  166187.94\n",
              "5          1.279800       -0.776239   1.245627    Dhaka  156991.12\n",
              "6          1.340066        0.932147  -0.739753      Ctg  156122.51\n",
              "7          1.245057        0.871980   0.916470  Rangpur  155752.60\n",
              "8          1.030369        0.986952   0.812928    Dhaka  152211.77\n",
              "9          1.091819       -0.456640   0.756935      Ctg  149759.96\n",
              "10         0.620398       -0.387599   0.116763  Rangpur  146121.95\n",
              "11         0.593085       -1.065540   0.290555      Ctg  144259.40\n",
              "12         0.443260        0.215449   0.291357  Rangpur  141585.52\n",
              "13         0.402078        0.510179   0.315213      Ctg  134307.35\n",
              "14         1.017181        1.269199   0.347702  Rangpur  132602.65\n",
              "15         2.016411        0.045868   0.392142    Dhaka  129917.04\n",
              "16         0.094441        0.009118   0.413839      Ctg  126992.93\n",
              "17         0.460720        0.855666   0.567745    Dhaka  125370.37\n",
              "18         0.396725       -0.258465   0.671979  Rangpur  124266.90\n",
              "19         0.279442        1.159837        NaN    Dhaka  122776.86\n",
              "20         0.055726       -0.269588   0.703598      Ctg  118474.03\n",
              "21         0.102724        1.169186   0.712656    Dhaka  111313.02\n",
              "22         0.006007        0.051850   0.742899  Rangpur  110352.25\n",
              "23        -0.136201       -0.562211   0.755138  Rangpur  108733.99\n",
              "24         0.073115       -0.795469  -0.631190    Dhaka  108552.04\n",
              "25        -0.199312        0.656489  -0.653246      Ctg  107404.34\n",
              "26         0.035370        0.821718  -0.686280  Rangpur  105733.54\n",
              "27        -0.035519        0.235069   1.163917    Dhaka  105008.31\n",
              "28        -0.168793        2.210141  -0.820543  Rangpur  103282.38\n",
              "29        -0.178609        1.142457  -0.913502    Dhaka  101004.64\n",
              "30        -0.258074       -0.205629  -1.048654  Rangpur   99937.59\n",
              "31        -0.276958        1.130554  -1.073249    Dhaka   97483.56\n",
              "32        -0.226949        0.283924  -1.428988      Ctg   97427.84\n",
              "33        -0.401129       -0.659324  -0.005884  Rangpur   96778.92\n",
              "34        -0.600682        1.310535  -0.038282      Ctg   96712.80\n",
              "35        -0.609750       -1.308658  -0.082863    Dhaka   96479.51\n",
              "36        -0.991570        0.205925  -0.119935  Rangpur   90708.19\n",
              "37        -0.652532       -2.525994  -0.154531      Ctg   89949.14\n",
              "38        -1.177178       -1.997270  -0.253860    Dhaka   81229.06\n",
              "39        -0.773820       -1.383122  -0.340536      Ctg   81005.76\n",
              "40        -0.989577       -0.100900  -0.359142      Ctg   78239.91\n",
              "41        -1.008534       -1.320796  -0.429432  Rangpur   77798.83\n",
              "42        -1.102106       -0.906938  -0.568488      Ctg   71498.49\n",
              "43        -1.281134        0.217682  -1.518073    Dhaka   69758.98\n",
              "44        -1.134305        1.206419  -1.578860      Ctg   65200.33\n",
              "45        -1.600350        0.101254  -1.802021    Dhaka   64926.08\n",
              "46        -1.593413       -0.199322   0.690511  Rangpur   49490.75\n",
              "47        -1.622362        0.507722  -1.818096      Ctg   42559.73\n",
              "48        -1.610433       -2.509409  -1.818096    Dhaka   35673.41\n",
              "49        -1.622362       -0.157226  -1.436690      Ctg   14681.40>"
            ]
          },
          "metadata": {},
          "execution_count": 58
        }
      ]
    },
    {
      "cell_type": "markdown",
      "metadata": {
        "id": "MNMHcTKyNA0X"
      },
      "source": [
        " **Robust Scaler**"
      ]
    },
    {
      "cell_type": "code",
      "metadata": {
        "colab": {
          "base_uri": "https://localhost:8080/",
          "height": 204
        },
        "id": "OubAvy_2L-1G",
        "outputId": "a2da27eb-84d4-46be-f820-dd7ab5851e8a"
      },
      "source": [
        "df3 = pd.read_csv('/content/drive/MyDrive/Data/agora.csv')\n",
        "df3.head()"
      ],
      "execution_count": 60,
      "outputs": [
        {
          "output_type": "execute_result",
          "data": {
            "text/html": [
              "<div>\n",
              "<style scoped>\n",
              "    .dataframe tbody tr th:only-of-type {\n",
              "        vertical-align: middle;\n",
              "    }\n",
              "\n",
              "    .dataframe tbody tr th {\n",
              "        vertical-align: top;\n",
              "    }\n",
              "\n",
              "    .dataframe thead th {\n",
              "        text-align: right;\n",
              "    }\n",
              "</style>\n",
              "<table border=\"1\" class=\"dataframe\">\n",
              "  <thead>\n",
              "    <tr style=\"text-align: right;\">\n",
              "      <th></th>\n",
              "      <th>Marketing Spend</th>\n",
              "      <th>Administration</th>\n",
              "      <th>Transport</th>\n",
              "      <th>Area</th>\n",
              "      <th>Profit</th>\n",
              "    </tr>\n",
              "  </thead>\n",
              "  <tbody>\n",
              "    <tr>\n",
              "      <th>0</th>\n",
              "      <td>114523.61</td>\n",
              "      <td>136897.80</td>\n",
              "      <td>471784.10</td>\n",
              "      <td>Dhaka</td>\n",
              "      <td>192261.83</td>\n",
              "    </tr>\n",
              "    <tr>\n",
              "      <th>1</th>\n",
              "      <td>162597.70</td>\n",
              "      <td>151377.59</td>\n",
              "      <td>443898.53</td>\n",
              "      <td>Ctg</td>\n",
              "      <td>191792.06</td>\n",
              "    </tr>\n",
              "    <tr>\n",
              "      <th>2</th>\n",
              "      <td>153441.51</td>\n",
              "      <td>101145.55</td>\n",
              "      <td>407934.54</td>\n",
              "      <td>Rangpur</td>\n",
              "      <td>191050.39</td>\n",
              "    </tr>\n",
              "    <tr>\n",
              "      <th>3</th>\n",
              "      <td>144372.41</td>\n",
              "      <td>118671.85</td>\n",
              "      <td>383199.62</td>\n",
              "      <td>Dhaka</td>\n",
              "      <td>182901.99</td>\n",
              "    </tr>\n",
              "    <tr>\n",
              "      <th>4</th>\n",
              "      <td>142107.34</td>\n",
              "      <td>91391.77</td>\n",
              "      <td>366168.42</td>\n",
              "      <td>Rangpur</td>\n",
              "      <td>166187.94</td>\n",
              "    </tr>\n",
              "  </tbody>\n",
              "</table>\n",
              "</div>"
            ],
            "text/plain": [
              "   Marketing Spend  Administration  Transport     Area     Profit\n",
              "0        114523.61       136897.80  471784.10    Dhaka  192261.83\n",
              "1        162597.70       151377.59  443898.53      Ctg  191792.06\n",
              "2        153441.51       101145.55  407934.54  Rangpur  191050.39\n",
              "3        144372.41       118671.85  383199.62    Dhaka  182901.99\n",
              "4        142107.34        91391.77  366168.42  Rangpur  166187.94"
            ]
          },
          "metadata": {},
          "execution_count": 60
        }
      ]
    },
    {
      "cell_type": "code",
      "metadata": {
        "id": "JgYC02vFNUn3"
      },
      "source": [
        "from sklearn.preprocessing import RobustScaler\n",
        "rob = RobustScaler() "
      ],
      "execution_count": 62,
      "outputs": []
    },
    {
      "cell_type": "code",
      "metadata": {
        "colab": {
          "base_uri": "https://localhost:8080/"
        },
        "id": "u3ojpwpbNqK7",
        "outputId": "cdb41454-77ad-4122-f1d7-8152c56b5567"
      },
      "source": [
        "x3=df3.drop('Profit',axis=1)\n",
        "x3.head\n",
        "y3=df3['Profit']\n",
        "y3.head"
      ],
      "execution_count": 64,
      "outputs": [
        {
          "output_type": "execute_result",
          "data": {
            "text/plain": [
              "<bound method NDFrame.head of 0     192261.83\n",
              "1     191792.06\n",
              "2     191050.39\n",
              "3     182901.99\n",
              "4     166187.94\n",
              "5     156991.12\n",
              "6     156122.51\n",
              "7     155752.60\n",
              "8     152211.77\n",
              "9     149759.96\n",
              "10    146121.95\n",
              "11    144259.40\n",
              "12    141585.52\n",
              "13    134307.35\n",
              "14    132602.65\n",
              "15    129917.04\n",
              "16    126992.93\n",
              "17    125370.37\n",
              "18    124266.90\n",
              "19    122776.86\n",
              "20    118474.03\n",
              "21    111313.02\n",
              "22    110352.25\n",
              "23    108733.99\n",
              "24    108552.04\n",
              "25    107404.34\n",
              "26    105733.54\n",
              "27    105008.31\n",
              "28    103282.38\n",
              "29    101004.64\n",
              "30     99937.59\n",
              "31     97483.56\n",
              "32     97427.84\n",
              "33     96778.92\n",
              "34     96712.80\n",
              "35     96479.51\n",
              "36     90708.19\n",
              "37     89949.14\n",
              "38     81229.06\n",
              "39     81005.76\n",
              "40     78239.91\n",
              "41     77798.83\n",
              "42     71498.49\n",
              "43     69758.98\n",
              "44     65200.33\n",
              "45     64926.08\n",
              "46     49490.75\n",
              "47     42559.73\n",
              "48     35673.41\n",
              "49     14681.40\n",
              "Name: Profit, dtype: float64>"
            ]
          },
          "metadata": {},
          "execution_count": 64
        }
      ]
    },
    {
      "cell_type": "code",
      "metadata": {
        "colab": {
          "base_uri": "https://localhost:8080/"
        },
        "id": "X06nOXgHN5z8",
        "outputId": "529811d6-5f5d-4cf3-80e5-d6314c9f6e2b"
      },
      "source": [
        "df3['Marketing Spend'] = rob.fit_transform(x[['Marketing Spend']])\n",
        "df3['Administration'] = rob.fit_transform(x[['Administration']])\n",
        "df3['Transport'] = rob.fit_transform(x[['Transport']])\n",
        "df3.head"
      ],
      "execution_count": 65,
      "outputs": [
        {
          "output_type": "execute_result",
          "data": {
            "text/plain": [
              "<bound method NDFrame.head of     Marketing Spend  Administration  Transport     Area     Profit\n",
              "0          0.672530        0.345355   1.552016    Dhaka  192261.83\n",
              "1          1.452113        0.697565   1.383714      Ctg  191792.06\n",
              "2          1.303634       -0.524290   1.166654  Rangpur  191050.39\n",
              "3          1.156567       -0.097977   1.017368    Dhaka  182901.99\n",
              "4          1.119836       -0.761543   0.914576  Rangpur  166187.94\n",
              "5          0.953936       -0.556662   0.894617    Dhaka  156991.12\n",
              "6          0.998345        0.595921  -0.524591      Ctg  156122.51\n",
              "7          0.928334        0.555328   0.659326  Rangpur  155752.60\n",
              "8          0.770134        0.632895   0.585311    Dhaka  152211.77\n",
              "9          0.815416       -0.341041   0.545285      Ctg  149759.96\n",
              "10         0.468034       -0.294461   0.087672  Rangpur  146121.95\n",
              "11         0.447908       -0.751841   0.211904      Ctg  144259.40\n",
              "12         0.337504        0.112392   0.212476  Rangpur  141585.52\n",
              "13         0.307158        0.311235   0.229530      Ctg  134307.35\n",
              "14         0.760416        0.823317   0.252754  Rangpur  132602.65\n",
              "15         1.496732       -0.002018   0.284521    Dhaka  129917.04\n",
              "16         0.080466       -0.026811   0.300031      Ctg  126992.93\n",
              "17         0.350370        0.544322   0.410047    Dhaka  125370.37\n",
              "18         0.303213       -0.207340   0.484556  Rangpur  124266.90\n",
              "19         0.216789        0.749534        NaN    Dhaka  122776.86\n",
              "20         0.051937       -0.214843   0.507158      Ctg  118474.03\n",
              "21         0.086569        0.755842   0.513633    Dhaka  111313.02\n",
              "22         0.015300        0.002018   0.535252  Rangpur  110352.25\n",
              "23        -0.089490       -0.412265   0.544000  Rangpur  108733.99\n",
              "24         0.064750       -0.569635  -0.446987    Dhaka  108552.04\n",
              "25        -0.135996        0.409945  -0.462753      Ctg  107404.34\n",
              "26         0.036937        0.521418  -0.486367  Rangpur  105733.54\n",
              "27        -0.015300        0.125629   0.836208    Dhaka  105008.31\n",
              "28        -0.113507        1.458133  -0.582342  Rangpur  103282.38\n",
              "29        -0.120740        0.737808  -0.648791    Dhaka  101004.64\n",
              "30        -0.179297       -0.171693  -0.745402  Rangpur   99937.59\n",
              "31        -0.193212        0.729778  -0.762983    Dhaka   97483.56\n",
              "32        -0.156361        0.158589  -1.017276      Ctg   97427.84\n",
              "33        -0.284711       -0.477784   0.000000  Rangpur   96778.92\n",
              "34        -0.431759        0.851204  -0.023159      Ctg   96712.80\n",
              "35        -0.438440       -0.915864  -0.055026    Dhaka   96479.51\n",
              "36        -0.719797        0.105966  -0.081527  Rangpur   90708.19\n",
              "37        -0.469966       -1.737154  -0.106257      Ctg   89949.14\n",
              "38        -0.856568       -1.380444  -0.177260    Dhaka   81229.06\n",
              "39        -0.559341       -0.966102  -0.239219      Ctg   81005.76\n",
              "40        -0.718328       -0.101037  -0.252519      Ctg   78239.91\n",
              "41        -0.732297       -0.924053  -0.302764  Rangpur   77798.83\n",
              "42        -0.801249       -0.644839  -0.402166      Ctg   71498.49\n",
              "43        -0.933171        0.113898  -1.080956    Dhaka   69758.98\n",
              "44        -0.824976        0.780961  -1.124408      Ctg   65200.33\n",
              "45        -1.168397        0.035349  -1.283931    Dhaka   64926.08\n",
              "46        -1.163285       -0.167438   0.497803  Rangpur   49490.75\n",
              "47        -1.184617        0.309577  -1.295422      Ctg   42559.73\n",
              "48        -1.175827       -1.725964  -1.295422    Dhaka   35673.41\n",
              "49        -1.184617       -0.139037  -1.022781      Ctg   14681.40>"
            ]
          },
          "metadata": {},
          "execution_count": 65
        }
      ]
    },
    {
      "cell_type": "markdown",
      "metadata": {
        "id": "vnMwaVZMOvpB"
      },
      "source": [
        "**Max Absulate Scaler**"
      ]
    },
    {
      "cell_type": "code",
      "metadata": {
        "colab": {
          "base_uri": "https://localhost:8080/",
          "height": 204
        },
        "id": "hTIedYufO6Lf",
        "outputId": "9ffca3db-0241-4ed3-f39f-07ee0e8e43a2"
      },
      "source": [
        "df4 = pd.read_csv('/content/drive/MyDrive/Data/agora.csv')\n",
        "df4.head()"
      ],
      "execution_count": 66,
      "outputs": [
        {
          "output_type": "execute_result",
          "data": {
            "text/html": [
              "<div>\n",
              "<style scoped>\n",
              "    .dataframe tbody tr th:only-of-type {\n",
              "        vertical-align: middle;\n",
              "    }\n",
              "\n",
              "    .dataframe tbody tr th {\n",
              "        vertical-align: top;\n",
              "    }\n",
              "\n",
              "    .dataframe thead th {\n",
              "        text-align: right;\n",
              "    }\n",
              "</style>\n",
              "<table border=\"1\" class=\"dataframe\">\n",
              "  <thead>\n",
              "    <tr style=\"text-align: right;\">\n",
              "      <th></th>\n",
              "      <th>Marketing Spend</th>\n",
              "      <th>Administration</th>\n",
              "      <th>Transport</th>\n",
              "      <th>Area</th>\n",
              "      <th>Profit</th>\n",
              "    </tr>\n",
              "  </thead>\n",
              "  <tbody>\n",
              "    <tr>\n",
              "      <th>0</th>\n",
              "      <td>114523.61</td>\n",
              "      <td>136897.80</td>\n",
              "      <td>471784.10</td>\n",
              "      <td>Dhaka</td>\n",
              "      <td>192261.83</td>\n",
              "    </tr>\n",
              "    <tr>\n",
              "      <th>1</th>\n",
              "      <td>162597.70</td>\n",
              "      <td>151377.59</td>\n",
              "      <td>443898.53</td>\n",
              "      <td>Ctg</td>\n",
              "      <td>191792.06</td>\n",
              "    </tr>\n",
              "    <tr>\n",
              "      <th>2</th>\n",
              "      <td>153441.51</td>\n",
              "      <td>101145.55</td>\n",
              "      <td>407934.54</td>\n",
              "      <td>Rangpur</td>\n",
              "      <td>191050.39</td>\n",
              "    </tr>\n",
              "    <tr>\n",
              "      <th>3</th>\n",
              "      <td>144372.41</td>\n",
              "      <td>118671.85</td>\n",
              "      <td>383199.62</td>\n",
              "      <td>Dhaka</td>\n",
              "      <td>182901.99</td>\n",
              "    </tr>\n",
              "    <tr>\n",
              "      <th>4</th>\n",
              "      <td>142107.34</td>\n",
              "      <td>91391.77</td>\n",
              "      <td>366168.42</td>\n",
              "      <td>Rangpur</td>\n",
              "      <td>166187.94</td>\n",
              "    </tr>\n",
              "  </tbody>\n",
              "</table>\n",
              "</div>"
            ],
            "text/plain": [
              "   Marketing Spend  Administration  Transport     Area     Profit\n",
              "0        114523.61       136897.80  471784.10    Dhaka  192261.83\n",
              "1        162597.70       151377.59  443898.53      Ctg  191792.06\n",
              "2        153441.51       101145.55  407934.54  Rangpur  191050.39\n",
              "3        144372.41       118671.85  383199.62    Dhaka  182901.99\n",
              "4        142107.34        91391.77  366168.42  Rangpur  166187.94"
            ]
          },
          "metadata": {},
          "execution_count": 66
        }
      ]
    },
    {
      "cell_type": "code",
      "metadata": {
        "id": "CTHn07p9PH6X"
      },
      "source": [
        "from sklearn.preprocessing import MaxAbsScaler\n",
        "mas = MaxAbsScaler() "
      ],
      "execution_count": 70,
      "outputs": []
    },
    {
      "cell_type": "code",
      "metadata": {
        "colab": {
          "base_uri": "https://localhost:8080/"
        },
        "id": "7qOumZ_tPQRp",
        "outputId": "67a77ebb-89e5-49db-99a8-3652c338b918"
      },
      "source": [
        "x4=df4.drop('Profit',axis=1)\n",
        "x4.head\n",
        "y4=df4['Profit']\n",
        "y4.head"
      ],
      "execution_count": 71,
      "outputs": [
        {
          "output_type": "execute_result",
          "data": {
            "text/plain": [
              "<bound method NDFrame.head of 0     192261.83\n",
              "1     191792.06\n",
              "2     191050.39\n",
              "3     182901.99\n",
              "4     166187.94\n",
              "5     156991.12\n",
              "6     156122.51\n",
              "7     155752.60\n",
              "8     152211.77\n",
              "9     149759.96\n",
              "10    146121.95\n",
              "11    144259.40\n",
              "12    141585.52\n",
              "13    134307.35\n",
              "14    132602.65\n",
              "15    129917.04\n",
              "16    126992.93\n",
              "17    125370.37\n",
              "18    124266.90\n",
              "19    122776.86\n",
              "20    118474.03\n",
              "21    111313.02\n",
              "22    110352.25\n",
              "23    108733.99\n",
              "24    108552.04\n",
              "25    107404.34\n",
              "26    105733.54\n",
              "27    105008.31\n",
              "28    103282.38\n",
              "29    101004.64\n",
              "30     99937.59\n",
              "31     97483.56\n",
              "32     97427.84\n",
              "33     96778.92\n",
              "34     96712.80\n",
              "35     96479.51\n",
              "36     90708.19\n",
              "37     89949.14\n",
              "38     81229.06\n",
              "39     81005.76\n",
              "40     78239.91\n",
              "41     77798.83\n",
              "42     71498.49\n",
              "43     69758.98\n",
              "44     65200.33\n",
              "45     64926.08\n",
              "46     49490.75\n",
              "47     42559.73\n",
              "48     35673.41\n",
              "49     14681.40\n",
              "Name: Profit, dtype: float64>"
            ]
          },
          "metadata": {},
          "execution_count": 71
        }
      ]
    },
    {
      "cell_type": "code",
      "metadata": {
        "colab": {
          "base_uri": "https://localhost:8080/"
        },
        "id": "Rm8VliYCPeUl",
        "outputId": "b654c5f0-5d08-4f83-d787-2416b7a0622c"
      },
      "source": [
        "df4['Marketing Spend'] = mas.fit_transform(x[['Marketing Spend']])\n",
        "df4['Administration'] = mas.fit_transform(x[['Administration']])\n",
        "df4['Transport'] = mas.fit_transform(x[['Transport']])\n",
        "df4.head"
      ],
      "execution_count": 72,
      "outputs": [
        {
          "output_type": "execute_result",
          "data": {
            "text/plain": [
              "<bound method NDFrame.head of     Marketing Spend  Administration  Transport     Area     Profit\n",
              "0          0.692617        0.651744   1.000000    Dhaka  192261.83\n",
              "1          0.983359        0.761972   0.940893      Ctg  191792.06\n",
              "2          0.927985        0.379579   0.864664  Rangpur  191050.39\n",
              "3          0.873136        0.512998   0.812235    Dhaka  182901.99\n",
              "4          0.859438        0.305328   0.776136  Rangpur  166187.94\n",
              "5          0.797566        0.369448   0.769126    Dhaka  156991.12\n",
              "6          0.814128        0.730161   0.270710      Ctg  156122.51\n",
              "7          0.788018        0.717457   0.686493  Rangpur  155752.60\n",
              "8          0.729018        0.741733   0.660500    Dhaka  152211.77\n",
              "9          0.745906        0.436929   0.646443      Ctg  149759.96\n",
              "10         0.616351        0.451506   0.485733  Rangpur  146121.95\n",
              "11         0.608845        0.308364   0.529362      Ctg  144259.40\n",
              "12         0.567670        0.578836   0.529563  Rangpur  141585.52\n",
              "13         0.556352        0.641066   0.535552      Ctg  134307.35\n",
              "14         0.725394        0.801327   0.543708  Rangpur  132602.65\n",
              "15         1.000000        0.543030   0.554864    Dhaka  129917.04\n",
              "16         0.471808        0.535270   0.560312      Ctg  126992.93\n",
              "17         0.572468        0.714013   0.598948    Dhaka  125370.37\n",
              "18         0.554881        0.478772   0.625116  Rangpur  124266.90\n",
              "19         0.522650        0.778236        NaN    Dhaka  122776.86\n",
              "20         0.461169        0.476424   0.633053      Ctg  118474.03\n",
              "21         0.474084        0.780210   0.635327    Dhaka  111313.02\n",
              "22         0.447505        0.544293   0.642920  Rangpur  110352.25\n",
              "23         0.408424        0.414638   0.645992  Rangpur  108733.99\n",
              "24         0.465947        0.365388   0.297964    Dhaka  108552.04\n",
              "25         0.391080        0.671958   0.292427      Ctg  107404.34\n",
              "26         0.455574        0.706845   0.284134  Rangpur  105733.54\n",
              "27         0.436093        0.582978   0.748613    Dhaka  105008.31\n",
              "28         0.399467        1.000000   0.250429  Rangpur  103282.38\n",
              "29         0.396769        0.774566   0.227092    Dhaka  101004.64\n",
              "30         0.374931        0.489928   0.193163  Rangpur   99937.59\n",
              "31         0.369741        0.772053   0.186989    Dhaka   97483.56\n",
              "32         0.383485        0.593294   0.097683      Ctg   97427.84\n",
              "33         0.335617        0.394134   0.454943  Rangpur   96778.92\n",
              "34         0.280776        0.810055   0.446810      Ctg   96712.80\n",
              "35         0.278284        0.257032   0.435618    Dhaka   96479.51\n",
              "36         0.173353        0.576825   0.426311  Rangpur   90708.19\n",
              "37         0.266527        0.000000   0.417626      Ctg   89949.14\n",
              "38         0.122345        0.111636   0.392690    Dhaka   81229.06\n",
              "39         0.233194        0.241309   0.370931      Ctg   81005.76\n",
              "40         0.173901        0.512041   0.366260      Ctg   78239.91\n",
              "41         0.168691        0.254469   0.348614  Rangpur   77798.83\n",
              "42         0.142976        0.341852   0.313705      Ctg   71498.49\n",
              "43         0.093776        0.579307   0.075319    Dhaka   69758.98\n",
              "44         0.134127        0.788072   0.060059      Ctg   65200.33\n",
              "45         0.006049        0.554724   0.004036    Dhaka   64926.08\n",
              "46         0.007956        0.491260   0.629768  Rangpur   49490.75\n",
              "47         0.000000        0.640547   0.000000      Ctg   42559.73\n",
              "48         0.003278        0.003502   0.000000    Dhaka   35673.41\n",
              "49         0.000000        0.500148   0.095749      Ctg   14681.40>"
            ]
          },
          "metadata": {},
          "execution_count": 72
        }
      ]
    },
    {
      "cell_type": "code",
      "metadata": {
        "id": "wM_7dQikP5z_"
      },
      "source": [
        ""
      ],
      "execution_count": null,
      "outputs": []
    }
  ]
}